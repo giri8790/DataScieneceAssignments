{
  "nbformat": 4,
  "nbformat_minor": 0,
  "metadata": {
    "colab": {
      "provenance": [],
      "include_colab_link": true
    },
    "kernelspec": {
      "name": "python3",
      "display_name": "Python 3"
    },
    "language_info": {
      "name": "python"
    }
  },
  "cells": [
    {
      "cell_type": "markdown",
      "metadata": {
        "id": "view-in-github",
        "colab_type": "text"
      },
      "source": [
        "<a href=\"https://colab.research.google.com/github/giri8790/DataScieneceAssignments/blob/main/FUNCTIONS_2_.ipynb\" target=\"_parent\"><img src=\"https://colab.research.google.com/assets/colab-badge.svg\" alt=\"Open In Colab\"/></a>"
      ]
    },
    {
      "cell_type": "markdown",
      "source": [
        "*** USE THE CONCEPT OF FUNCTIONS TO SOLVE THE BELOW PROGRAMMING QUESTIONS ***"
      ],
      "metadata": {
        "id": "iW-mnZaZRsWX"
      }
    },
    {
      "cell_type": "markdown",
      "source": [
        "1) Write a Python function that accepts a string and counts the number of upper and lower case letters.\n",
        "\n",
        "Sample String : 'The quick Brow Fox'\n",
        "\n",
        "Expected Output :\n",
        "\n",
        "No. of Upper case characters : 3\n",
        "\n",
        "No. of Lower case Characters : 12"
      ],
      "metadata": {
        "id": "gZjDc6eiRsYf"
      }
    },
    {
      "cell_type": "code",
      "source": [
        "#WRITE YOUR CODE HERE\n",
        "def fun(a):\n",
        "  u=0\n",
        "  l=0\n",
        "  for i in a:\n",
        "    if i.isupper():\n",
        "      u+=1\n",
        "    elif i.islower():\n",
        "      l+=1\n",
        "    else:\n",
        "      pass\n",
        "  print(u)\n",
        "  print(l)\n",
        "a=input()\n",
        "fun(a)"
      ],
      "metadata": {
        "id": "wGtk-weiR-5t",
        "colab": {
          "base_uri": "https://localhost:8080/"
        },
        "outputId": "10c2dd36-1db4-45ab-952d-2e064455de9b"
      },
      "execution_count": null,
      "outputs": [
        {
          "output_type": "stream",
          "name": "stdout",
          "text": [
            "The quick Brow Fox\n",
            "3\n",
            "12\n"
          ]
        }
      ]
    },
    {
      "cell_type": "markdown",
      "source": [
        "2) Write a Python function that takes a list and returns a new list with distinct elements from the first list.\n",
        "\n",
        "Sample List : [1,2,3,3,3,3,4,5]\n",
        "\n",
        "Unique List : [1, 2, 3, 4, 5]"
      ],
      "metadata": {
        "id": "bmt7_PqqRsaw"
      }
    },
    {
      "cell_type": "code",
      "source": [
        "#WRITE YOUR CODE HERE\n",
        "def fun(a):\n",
        "  b=[]\n",
        "  for i in range(len(a)):\n",
        "    i=int(a[i])\n",
        "    if i in b:\n",
        "      pass\n",
        "    else:\n",
        "      b+=[i]\n",
        "  return b\n",
        "a=input().split(\",\")\n",
        "b=fun(a)\n",
        "print(b)"
      ],
      "metadata": {
        "id": "Za2S_kbzSQJZ",
        "colab": {
          "base_uri": "https://localhost:8080/"
        },
        "outputId": "4a62c52e-9c55-4669-fc00-9a51efc2447f"
      },
      "execution_count": null,
      "outputs": [
        {
          "output_type": "stream",
          "name": "stdout",
          "text": [
            " 1,2,3,3,3,3,4,5\n",
            "[1, 2, 3, 4, 5]\n"
          ]
        }
      ]
    },
    {
      "cell_type": "markdown",
      "source": [
        "3) Write a Python function that takes a number as a parameter and checks whether the number is prime or not.\n",
        "\n",
        "Note : A prime number (or a prime) is a natural number greater than 1 and that has no positive divisors other than 1 and itself."
      ],
      "metadata": {
        "id": "adx-jfbnRsdC"
      }
    },
    {
      "cell_type": "code",
      "source": [
        "#WRITE YOUR CODE HERE\n",
        "a=int(input())\n",
        "b=0\n",
        "for i in range(1,a+1):\n",
        "    if a%i==0:\n",
        "      b+=1\n",
        "if b==2:\n",
        "  print(\"Yes\")\n",
        "else:\n",
        "  print(\"NO\")"
      ],
      "metadata": {
        "id": "RaBolJpSSa4N",
        "colab": {
          "base_uri": "https://localhost:8080/"
        },
        "outputId": "17c355aa-d072-40aa-ef86-75c400eb6a5c"
      },
      "execution_count": null,
      "outputs": [
        {
          "output_type": "stream",
          "name": "stdout",
          "text": [
            "7\n",
            "Yes\n"
          ]
        }
      ]
    },
    {
      "cell_type": "markdown",
      "source": [
        "4)Write a Python program to print the even numbers from a given list.\n",
        "\n",
        "Sample List : [1, 2, 3, 4, 5, 6, 7, 8, 9]\n",
        "\n",
        "Expected Result : [2, 4, 6, 8]\n"
      ],
      "metadata": {
        "id": "P2i2bBwIRsfQ"
      }
    },
    {
      "cell_type": "code",
      "source": [
        "# WRITE YOUR CODE HERE\n",
        "def fun(a):\n",
        "  b=[]\n",
        "  for i in range(len(a)):\n",
        "     i=int(a[i])\n",
        "     if i%2==0:\n",
        "      b+=[i]\n",
        "  return b\n",
        "a=input().split(\",\")\n",
        "b=fun(a)\n",
        "print(b)"
      ],
      "metadata": {
        "id": "32Rk_UCp_pAT",
        "colab": {
          "base_uri": "https://localhost:8080/"
        },
        "outputId": "9e64fdbe-a7f0-45b6-cf72-cf2a0bcf9e3d"
      },
      "execution_count": null,
      "outputs": [
        {
          "output_type": "stream",
          "name": "stdout",
          "text": [
            "1, 2, 3, 4, 5, 6, 7, 8, 9\n",
            "[2, 4, 6, 8]\n"
          ]
        }
      ]
    },
    {
      "cell_type": "markdown",
      "source": [
        "5) Write a Python function to check whether a string is a pangram or not.\n",
        "\n",
        "Note : Pangrams are words or sentences containing every letter of the alphabet at least once.\n",
        "\n",
        "For example : \"The quick brown fox jumps over the lazy dog\""
      ],
      "metadata": {
        "id": "kaTTpignRsh7"
      }
    },
    {
      "cell_type": "code",
      "source": [
        "# WRITE YOUR CODE HERE\n",
        "def fun(a):\n",
        "  b=\"abcdefghijklmnopqrstuvwxyz\"\n",
        "  for i in b:\n",
        "     if i not in a.lower():\n",
        "      return False\n",
        "  return True\n",
        "\n",
        "\n",
        "a=input()\n",
        "b=fun(a)\n",
        "print(b)"
      ],
      "metadata": {
        "id": "EHEntu3P_5s8",
        "colab": {
          "base_uri": "https://localhost:8080/"
        },
        "outputId": "f75f47e9-a9a9-4a6a-92df-0f9fa3dae590"
      },
      "execution_count": null,
      "outputs": [
        {
          "output_type": "stream",
          "name": "stdout",
          "text": [
            "The quick brown fox jumps over the lazy dog\n",
            "True\n"
          ]
        }
      ]
    },
    {
      "cell_type": "markdown",
      "source": [],
      "metadata": {
        "id": "3InqavJfRslk"
      }
    }
  ]
}