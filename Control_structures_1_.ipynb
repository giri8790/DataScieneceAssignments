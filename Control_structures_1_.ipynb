{
 "cells": [
  {
   "cell_type": "markdown",
   "metadata": {
    "id": "-j3jwvf4Nex8"
   },
   "source": [
    "** USE THE CONCEPT OF LOOP TO SOLVE TEHE BELOW QUIRIES **"
   ]
  },
  {
   "cell_type": "markdown",
   "metadata": {
    "id": "e5fJbKobMfrV"
   },
   "source": [
    "  1) Print the first 10 natural numbers using for loop."
   ]
  },
  {
   "cell_type": "code",
   "execution_count": 1,
   "metadata": {
    "id": "dvVRbCfHMiM2"
   },
   "outputs": [
    {
     "name": "stdout",
     "output_type": "stream",
     "text": [
      "1\n",
      "2\n",
      "3\n",
      "4\n",
      "5\n",
      "6\n",
      "7\n",
      "8\n",
      "9\n",
      "10\n"
     ]
    }
   ],
   "source": [
    "#Write your code here\n",
    "a=10\n",
    "for i in range(1,a+1):\n",
    "    print(i)"
   ]
  },
  {
   "cell_type": "code",
   "execution_count": null,
   "metadata": {
    "id": "rEg4ZVZiM1nb"
   },
   "outputs": [],
   "source": []
  },
  {
   "cell_type": "markdown",
   "metadata": {
    "id": "z6Z_rllrM3EW"
   },
   "source": [
    "2) Python program to print all the even numbers within the given range.\n",
    "\n",
    "Range = 0 to 100"
   ]
  },
  {
   "cell_type": "code",
   "execution_count": 2,
   "metadata": {
    "id": "iu86kKj8MwAr"
   },
   "outputs": [
    {
     "name": "stdout",
     "output_type": "stream",
     "text": [
      "2\n",
      "4\n",
      "6\n",
      "8\n",
      "10\n",
      "12\n",
      "14\n",
      "16\n",
      "18\n",
      "20\n",
      "22\n",
      "24\n",
      "26\n",
      "28\n",
      "30\n",
      "32\n",
      "34\n",
      "36\n",
      "38\n",
      "40\n",
      "42\n",
      "44\n",
      "46\n",
      "48\n",
      "50\n",
      "52\n",
      "54\n",
      "56\n",
      "58\n",
      "60\n",
      "62\n",
      "64\n",
      "66\n",
      "68\n",
      "70\n",
      "72\n",
      "74\n",
      "76\n",
      "78\n",
      "80\n",
      "82\n",
      "84\n",
      "86\n",
      "88\n",
      "90\n",
      "92\n",
      "94\n",
      "96\n",
      "98\n",
      "100\n"
     ]
    }
   ],
   "source": [
    "#Write your code Here\n",
    "a=100\n",
    "for i in range(1,a+1):\n",
    "    if i%2==0:\n",
    "        print(i)"
   ]
  },
  {
   "cell_type": "markdown",
   "metadata": {
    "id": "8d-LECSINC6s"
   },
   "source": [
    "3) Python program to calculate the sum of all numbers from 1 to a given number.\n",
    "\n",
    "Given Range = 15"
   ]
  },
  {
   "cell_type": "code",
   "execution_count": 3,
   "metadata": {
    "id": "bBd7nbLLNSoA"
   },
   "outputs": [
    {
     "name": "stdout",
     "output_type": "stream",
     "text": [
      "120\n"
     ]
    }
   ],
   "source": [
    "#Write your Code Here\n",
    "a=15\n",
    "b=0\n",
    "for i in range(1,a+1):\n",
    "    b+=i\n",
    "print(b)"
   ]
  },
  {
   "cell_type": "markdown",
   "metadata": {
    "id": "nKJA-USXNRsk"
   },
   "source": [
    "4) Python program to calculate the sum of all the odd numbers within the given range.\n",
    "\n",
    "Given Range = 10"
   ]
  },
  {
   "cell_type": "code",
   "execution_count": 4,
   "metadata": {
    "id": "Q520Z2gXNwMV"
   },
   "outputs": [
    {
     "name": "stdout",
     "output_type": "stream",
     "text": [
      "1\n",
      "3\n",
      "5\n",
      "7\n",
      "9\n"
     ]
    }
   ],
   "source": [
    "# Write your code Here\n",
    "a=10\n",
    "for i in range(1,a+1):\n",
    "    if i%2==0:\n",
    "        pass\n",
    "    else:\n",
    "        print(i)"
   ]
  },
  {
   "cell_type": "markdown",
   "metadata": {
    "id": "uTwmyMFiNEM8"
   },
   "source": [
    "5) Python program to print a multiplication table of a given number\n",
    "\n",
    "given number = 5"
   ]
  },
  {
   "cell_type": "code",
   "execution_count": 6,
   "metadata": {
    "id": "ZlLy8g2kN6F7"
   },
   "outputs": [
    {
     "name": "stdout",
     "output_type": "stream",
     "text": [
      "5 * 1 = 5\n",
      "5 * 2 = 5\n",
      "5 * 3 = 5\n",
      "5 * 4 = 5\n",
      "5 * 5 = 5\n",
      "5 * 6 = 5\n",
      "5 * 7 = 5\n",
      "5 * 8 = 5\n",
      "5 * 9 = 5\n",
      "5 * 10 = 5\n"
     ]
    }
   ],
   "source": [
    "# Write your code here\n",
    "a=10\n",
    "for i in range(1,a+1):\n",
    "    print(\"5 \"+\"* \"+str(i)+\" \"+\"= \"+str(5*1))"
   ]
  }
 ],
 "metadata": {
  "colab": {
   "provenance": []
  },
  "kernelspec": {
   "display_name": "Python 3",
   "name": "python3"
  },
  "language_info": {
   "codemirror_mode": {
    "name": "ipython",
    "version": 3
   },
   "file_extension": ".py",
   "mimetype": "text/x-python",
   "name": "python",
   "nbconvert_exporter": "python",
   "pygments_lexer": "ipython3",
   "version": "3.12.6"
  }
 },
 "nbformat": 4,
 "nbformat_minor": 0
}
