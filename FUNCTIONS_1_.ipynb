{
  "nbformat": 4,
  "nbformat_minor": 0,
  "metadata": {
    "colab": {
      "provenance": [],
      "include_colab_link": true
    },
    "kernelspec": {
      "name": "python3",
      "display_name": "Python 3"
    },
    "language_info": {
      "name": "python"
    }
  },
  "cells": [
    {
      "cell_type": "markdown",
      "metadata": {
        "id": "view-in-github",
        "colab_type": "text"
      },
      "source": [
        "<a href=\"https://colab.research.google.com/github/giri8790/DataScieneceAssignments/blob/main/FUNCTIONS_1_.ipynb\" target=\"_parent\"><img src=\"https://colab.research.google.com/assets/colab-badge.svg\" alt=\"Open In Colab\"/></a>"
      ]
    },
    {
      "cell_type": "markdown",
      "source": [
        "*** USE THE CONCEPT OF FUNCTIONS TO SOLVE THE BELOW PROGRAMMING QUESTIONS ***"
      ],
      "metadata": {
        "id": "Rg2ZBqGAQwAf"
      }
    },
    {
      "cell_type": "markdown",
      "source": [
        "1) Write a Python function to sum all the numbers in a list.\n",
        "\n",
        "Sample List : (8, 2, 3, 0, 7)\n",
        "\n",
        "Expected Output : 20\n"
      ],
      "metadata": {
        "id": "ScHTvbE1QwCo"
      }
    },
    {
      "cell_type": "code",
      "source": [
        "#WRITE YOUR CODE HERE\n",
        "def sum(a):\n",
        "  b=0\n",
        "  for i in range(len(a)):\n",
        "    b+=int(a[i])\n",
        "  return b\n",
        "a=input().split(\",\")\n",
        "b=sum(a)\n",
        "print(b)"
      ],
      "metadata": {
        "id": "aR_k4uReQ8Og",
        "colab": {
          "base_uri": "https://localhost:8080/"
        },
        "outputId": "c5d85fe9-0fcd-45b1-e936-63b0f57dab05"
      },
      "execution_count": null,
      "outputs": [
        {
          "output_type": "stream",
          "name": "stdout",
          "text": [
            "8, 2, 3, 0, 7\n",
            "20\n"
          ]
        }
      ]
    },
    {
      "cell_type": "markdown",
      "source": [
        "2) Write a Python function to multiply all the numbers in a list.\n",
        "\n",
        "Sample List : (8, 2, 3, -1, 7)\n",
        "\n",
        "Expected Output : -336"
      ],
      "metadata": {
        "id": "dZtcDLjAQwE-"
      }
    },
    {
      "cell_type": "code",
      "source": [
        "#WRITE YOUR CODE HERE\n",
        "def mul(a):\n",
        "  b=1\n",
        "  for i in range(len(a)):\n",
        "    b*=int(a[i])\n",
        "  return b\n",
        "a=input().split(\",\")\n",
        "b=mul(a)\n",
        "print(b)"
      ],
      "metadata": {
        "id": "98uwoSPnRHyL",
        "colab": {
          "base_uri": "https://localhost:8080/"
        },
        "outputId": "8fe3c5f6-6ed6-44d8-a6a4-d341f5bf972b"
      },
      "execution_count": null,
      "outputs": [
        {
          "output_type": "stream",
          "name": "stdout",
          "text": [
            "8, 2, 3, -1, 7\n",
            "-336\n"
          ]
        }
      ]
    },
    {
      "cell_type": "markdown",
      "source": [
        "3) Write a Python program to reverse a string.\n",
        "\n",
        "Sample String : \"1234abcd\"\n",
        "\n",
        "Expected Output : \"dcba4321\""
      ],
      "metadata": {
        "id": "99G7rde1QwHN"
      }
    },
    {
      "cell_type": "code",
      "source": [
        "#WRITE YOUR CODE HERE\n",
        "a=input()\n",
        "b=a[::-1]\n",
        "print(b)"
      ],
      "metadata": {
        "id": "6qmLELFCRQAD",
        "colab": {
          "base_uri": "https://localhost:8080/"
        },
        "outputId": "7d358dd0-e0dd-4d0a-bde9-9480538f9256"
      },
      "execution_count": null,
      "outputs": [
        {
          "output_type": "stream",
          "name": "stdout",
          "text": [
            "1234abcd\n",
            "dcba4321\n"
          ]
        }
      ]
    },
    {
      "cell_type": "markdown",
      "source": [
        "4) Write a Python function to calculate the factorial of a number (a non-negative integer). The function accepts the number as an argument."
      ],
      "metadata": {
        "id": "_XE8as7eQwJn"
      }
    },
    {
      "cell_type": "code",
      "source": [
        "#WRITE YOUR CODE HERE\n",
        "def fact(a):\n",
        "  b=1\n",
        "  for i in range(1,a+1):\n",
        "    b*=i\n",
        "  return b\n",
        "a=int(input())\n",
        "if a<0:\n",
        "  print(\"Wrong\")\n",
        "else:\n",
        "  b=fact(a)\n",
        "  print(b)"
      ],
      "metadata": {
        "id": "Di5n5kNARZdn",
        "colab": {
          "base_uri": "https://localhost:8080/"
        },
        "outputId": "86ec8624-2bc5-45e5-b8ea-a1be40e95f15"
      },
      "execution_count": null,
      "outputs": [
        {
          "output_type": "stream",
          "name": "stdout",
          "text": [
            "5\n",
            "120\n"
          ]
        }
      ]
    },
    {
      "cell_type": "markdown",
      "source": [
        "5) Write a Python function to check whether a number falls within a given range."
      ],
      "metadata": {
        "id": "I2zyMS7XQwLx"
      }
    },
    {
      "cell_type": "code",
      "source": [
        "#WRITE YOUR CODE HERE\n",
        "def fun(a,b,c):\n",
        "  if c in range(a,b):\n",
        "    print(\"Yes\")\n",
        "  else:\n",
        "    print(\"NO\")\n",
        "a=int(input())\n",
        "b=int(input())\n",
        "c=int(input())\n",
        "fun(a,b,c)\n",
        "\n"
      ],
      "metadata": {
        "id": "rouydHDQRgcc",
        "colab": {
          "base_uri": "https://localhost:8080/"
        },
        "outputId": "fe52f019-050d-4f73-f8ef-a7fc162b2865"
      },
      "execution_count": null,
      "outputs": [
        {
          "output_type": "stream",
          "name": "stdout",
          "text": [
            "10\n",
            "20\n",
            "15\n",
            "Yes\n"
          ]
        }
      ]
    }
  ]
}