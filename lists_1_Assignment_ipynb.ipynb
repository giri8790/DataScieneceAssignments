{
  "nbformat": 4,
  "nbformat_minor": 0,
  "metadata": {
    "colab": {
      "provenance": [],
      "include_colab_link": true
    },
    "kernelspec": {
      "name": "python3",
      "display_name": "Python 3"
    },
    "language_info": {
      "name": "python"
    }
  },
  "cells": [
    {
      "cell_type": "markdown",
      "metadata": {
        "id": "view-in-github",
        "colab_type": "text"
      },
      "source": [
        "<a href=\"https://colab.research.google.com/github/giri8790/DataScieneceAssignments/blob/main/lists_1_Assignment_ipynb.ipynb\" target=\"_parent\"><img src=\"https://colab.research.google.com/assets/colab-badge.svg\" alt=\"Open In Colab\"/></a>"
      ]
    },
    {
      "cell_type": "markdown",
      "source": [
        "1.Are lists mutable or immutable, explain with an example"
      ],
      "metadata": {
        "id": "Mxypr15V3U7e"
      }
    },
    {
      "cell_type": "code",
      "source": [
        "lis=[\"a\",\"b\",\"c\"]\n",
        "print(lis)\n",
        "lis[0]=\"A\"\n",
        "print(lis)\n",
        "#lists is Mutable. Because list can be modified."
      ],
      "metadata": {
        "id": "c_aTKXsT3p0P",
        "colab": {
          "base_uri": "https://localhost:8080/"
        },
        "outputId": "37ed7c79-fba0-4467-9202-e05e2e235ee3"
      },
      "execution_count": 5,
      "outputs": [
        {
          "output_type": "stream",
          "name": "stdout",
          "text": [
            "['a', 'b', 'c']\n",
            "['A', 'b', 'c']\n"
          ]
        }
      ]
    },
    {
      "cell_type": "markdown",
      "source": [],
      "metadata": {
        "id": "Jd2G4J_c3tm7"
      }
    },
    {
      "cell_type": "markdown",
      "source": [
        "2.Take any example of list on your own and perform atleast 5 list operations on that"
      ],
      "metadata": {
        "id": "uPYH4kpZ3U97"
      }
    },
    {
      "cell_type": "code",
      "source": [
        "#write your code here\n",
        "a=[7,2,3,4]\n",
        "a.append(5)\n",
        "print(a)\n",
        "a.sort()\n",
        "print(a)\n",
        "print(a[3])\n",
        "a.insert(1,4)\n",
        "print(a)\n",
        "a.remove(4)\n",
        "print(a)\n",
        "a.reverse()\n",
        "print(a)"
      ],
      "metadata": {
        "id": "vSxe0pwG36ME",
        "colab": {
          "base_uri": "https://localhost:8080/"
        },
        "outputId": "1344fa25-747b-4107-bfbb-a29d610d64f5"
      },
      "execution_count": 9,
      "outputs": [
        {
          "output_type": "stream",
          "name": "stdout",
          "text": [
            "[7, 2, 3, 4, 5]\n",
            "[2, 3, 4, 5, 7]\n",
            "5\n",
            "[2, 4, 3, 4, 5, 7]\n",
            "[2, 3, 4, 5, 7]\n",
            "[7, 5, 4, 3, 2]\n"
          ]
        }
      ]
    },
    {
      "cell_type": "markdown",
      "source": [
        "3.Create a new list containing only the even numbers from the original list.\n",
        "\n",
        "original list ;[1,2,2,4,5,6,7,12,3,456,78,67,89,90]"
      ],
      "metadata": {
        "id": "1aSo9eEU3VAT"
      }
    },
    {
      "cell_type": "code",
      "source": [
        "#write your code here\n",
        "a=[1,2,2,4,5,6,7,12,3,456,78,67,89,90]\n",
        "b=[]\n",
        "for i in a:\n",
        "  if int(i)%2==0:\n",
        "    b+=[int(i)]\n",
        "print(b)\n"
      ],
      "metadata": {
        "id": "e-_3vMX54Upe",
        "colab": {
          "base_uri": "https://localhost:8080/"
        },
        "outputId": "0a3576a9-7f65-4016-ffa9-77131c29b6b5"
      },
      "execution_count": 10,
      "outputs": [
        {
          "output_type": "stream",
          "name": "stdout",
          "text": [
            "[2, 2, 4, 6, 12, 456, 78, 90]\n"
          ]
        }
      ]
    },
    {
      "cell_type": "markdown",
      "source": [
        "4.Create a new list with the squares of each element in the original list.\n",
        "\n",
        "original list : [3,5,6,8,2,45]"
      ],
      "metadata": {
        "id": "y1b95q7k3VCz"
      }
    },
    {
      "cell_type": "code",
      "source": [
        "#write your code here\n",
        "a=[3,5,6,8,2,45]\n",
        "b=[]\n",
        "for i in a:\n",
        "  i=int(i)\n",
        "  b+=[i**2]\n",
        "print(b)"
      ],
      "metadata": {
        "id": "97M5xax24jM4",
        "colab": {
          "base_uri": "https://localhost:8080/"
        },
        "outputId": "5bd91ded-de73-4abf-845f-19a4e24e39d3"
      },
      "execution_count": 11,
      "outputs": [
        {
          "output_type": "stream",
          "name": "stdout",
          "text": [
            "[9, 25, 36, 64, 4, 2025]\n"
          ]
        }
      ]
    },
    {
      "cell_type": "markdown",
      "source": [
        "5.Check if all elements in the list are positive and return all the positive elements in a new list.\n",
        "\n",
        "input ; [12,23,4,56,77,-89,7,90,90,-87,-99]"
      ],
      "metadata": {
        "id": "pzrQ5WBZ3VFQ"
      }
    },
    {
      "cell_type": "code",
      "source": [
        "# write your code here\n",
        "a=[12,23,4,56,77,-89,7,90,90,-87,-99]\n",
        "b=[]\n",
        "for i in a:\n",
        "  i=int(i)\n",
        "  if i<0:\n",
        "    pass\n",
        "  else:\n",
        "    b+=[i]\n",
        "print(b)\n"
      ],
      "metadata": {
        "id": "8x0148io5FcT",
        "colab": {
          "base_uri": "https://localhost:8080/"
        },
        "outputId": "a6f98ed7-7e35-482c-af09-3ab54cc8e52d"
      },
      "execution_count": 13,
      "outputs": [
        {
          "output_type": "stream",
          "name": "stdout",
          "text": [
            "[12, 23, 4, 56, 77, 7, 90, 90]\n"
          ]
        }
      ]
    },
    {
      "cell_type": "code",
      "source": [],
      "metadata": {
        "id": "f9Ow8-2q4xGV"
      },
      "execution_count": null,
      "outputs": []
    }
  ]
}